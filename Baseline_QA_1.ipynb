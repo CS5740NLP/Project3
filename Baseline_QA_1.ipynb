{
 "cells": [
  {
   "cell_type": "code",
   "execution_count": 2,
   "metadata": {
    "collapsed": true
   },
   "outputs": [],
   "source": [
    "import json\n",
    "import random\n",
    "with open('training.json') as json_file:  \n",
    "    train_json = json.load(json_file)\n",
    "with open('development.json') as json_file:  \n",
    "    dev_json = json.load(json_file)\n",
    "with open('testing.json') as json_file:  \n",
    "    test_json = json.load(json_file)\n",
    "with open('sample.json') as json_file:  \n",
    "    sample_json = json.load(json_file)\n",
    "    \n",
    "def get_dic_from_two_lists(keys, values):\n",
    "    return { keys[i] : values[i] for i in range(len(keys)) }"
   ]
  },
  {
   "cell_type": "code",
   "execution_count": 2,
   "metadata": {
    "collapsed": true
   },
   "outputs": [],
   "source": [
    "train_set = train_json['data']\n",
    "trn_answer_list = []\n",
    "trn_id_list = []\n",
    "\n",
    "for article in train_set:\n",
    "    for paragraph in article['paragraphs']:\n",
    "        for qa in paragraph['qas']:\n",
    "            l = len(paragraph['context'])\n",
    "            ans_text = paragraph['context']\n",
    "            start = random.randint(0, l-1) # randomly pick a start point\n",
    "            end = random.randint(start, l-1) # randomly pick a end pont\n",
    "            answer = ans_text[start:end]   # substring a span from question as answer\n",
    "            trn_id_list.append(qa['id'])\n",
    "            trn_answer_list.append(answer)\n",
    "trn_pred_dict = get_dic_from_two_lists(trn_id_list, trn_answer_list)\n",
    "with open('trn_prediction_v1.json', 'w') as f:\n",
    "    json.dump(trn_pred_dict, f)"
   ]
  },
  {
   "cell_type": "code",
   "execution_count": 5,
   "metadata": {},
   "outputs": [],
   "source": [
    "dev_set = dev_json['data']\n",
    "dev_answer_list = []\n",
    "dev_id_list = []\n",
    "\n",
    "for article in dev_set:\n",
    "    for paragraph in article['paragraphs']:\n",
    "        for qa in paragraph['qas']:\n",
    "            for question in qa['question']:\n",
    "                l = len(paragraph['context'])\n",
    "                ans_text = paragraph['context']\n",
    "                start = random.randint(0, l-1) # randomly pick a start point\n",
    "                end = random.randint(start, l-1) # randomly pick a end pont\n",
    "                answer = ans_text[start:end]   # substring a span from question as answer\n",
    "                dev_id_list.append(qa['id'])\n",
    "                dev_answer_list.append(answer)\n",
    "                \n",
    "dev_pred_dict = get_dic_from_two_lists(dev_id_list, dev_answer_list)\n",
    "with open('dev_prediction_v1.json', 'w') as f:\n",
    "    json.dump(dev_pred_dict, f)"
   ]
  },
  {
   "cell_type": "code",
   "execution_count": null,
   "metadata": {
    "collapsed": true
   },
   "outputs": [],
   "source": [
    "# run this script in the same directory with all needed datafiles and generate output file also in the same\n",
    "# directory"
   ]
  }
 ],
 "metadata": {
  "kernelspec": {
   "display_name": "Python 3",
   "language": "python",
   "name": "python3"
  },
  "language_info": {
   "codemirror_mode": {
    "name": "ipython",
    "version": 3
   },
   "file_extension": ".py",
   "mimetype": "text/x-python",
   "name": "python",
   "nbconvert_exporter": "python",
   "pygments_lexer": "ipython3",
   "version": "3.6.0"
  }
 },
 "nbformat": 4,
 "nbformat_minor": 2
}
