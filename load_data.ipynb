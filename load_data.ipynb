{
 "cells": [
  {
   "cell_type": "code",
   "execution_count": 2,
   "metadata": {
    "collapsed": true
   },
   "outputs": [],
   "source": [
    "import json\n",
    "import random\n",
    "with open('training.json') as json_file:  \n",
    "    train_json = json.load(json_file)\n",
    "with open('development.json') as json_file:  \n",
    "    dev_json = json.load(json_file)\n",
    "with open('testing.json') as json_file:  \n",
    "    test_json = json.load(json_file)\n",
    "with open('sample.json') as json_file:  \n",
    "    sample_json = json.load(json_file)\n",
    "    \n",
    "def get_dic_from_two_lists(keys, values):\n",
    "    return { keys[i] : values[i] for i in range(len(keys)) }"
   ]
  },
  {
   "cell_type": "code",
   "execution_count": 15,
   "metadata": {},
   "outputs": [],
   "source": [
    "data = []\n",
    "for article in dev_json['data']:\n",
    "    for paragraph in article['paragraphs']:\n",
    "        context = paragraph['context']\n",
    "        context = context.replace(\"''\", '\" ')\n",
    "        context = context.replace(\"``\", '\" ')\n",
    "        context_map = {}\n",
    "        qas = []\n",
    "        for qa in paragraph['qas']:           \n",
    "            question = qa['question']\n",
    "            answer = qa['answers'][0]\n",
    "            ans_text = answer['text']\n",
    "            ID = qa['id']\n",
    "            qas.append((ID,question,ans_text))\n",
    "        data.append((context,qas))"
   ]
  },
  {
   "cell_type": "code",
   "execution_count": 17,
   "metadata": {
    "collapsed": true
   },
   "outputs": [],
   "source": [
    "import spacy\n",
    "from nltk import sent_tokenize\n",
    "import en_core_web_sm\n",
    "nlp = en_core_web_sm.load()"
   ]
  },
  {
   "cell_type": "code",
   "execution_count": 18,
   "metadata": {},
   "outputs": [],
   "source": [
    "contexts = [a for (a,b) in data]\n",
    "dev_data = []\n",
    "for i,context in enumerate(contexts):\n",
    "    candidates  = list(nlp(context).noun_chunks)\n",
    "    sentences = sent_tokenize(context)\n",
    "    for q_id,question,answer in data[i][1]:\n",
    "        candidate_tuples = [i,question,q_id]\n",
    "        contain_answer = False\n",
    "        for candidate_answer in candidates:  \n",
    "            candidate_sentence=''\n",
    "            for sentence in sentences:\n",
    "                if str(candidate_answer) in sentence:\n",
    "                    candidate_sentence = sentence\n",
    "            if answer in str(candidate_answer):\n",
    "                candidate_tuples.extend([candidate_sentence,candidate_answer,1])\n",
    "                contain_answer = True\n",
    "            else:\n",
    "                candidate_tuples.extend([candidate_sentence,candidate_answer,0])\n",
    "        if not contain_answer:\n",
    "            for sentence in sentences:\n",
    "                if answer in sentence:\n",
    "                    candidate_sentence = sentence\n",
    "            candidate_tuples.extend([candidate_sentence,answer,1])\n",
    "        dev_data.append(candidate_tuples)"
   ]
  },
  {
   "cell_type": "code",
   "execution_count": 268,
   "metadata": {
    "collapsed": true
   },
   "outputs": [],
   "source": [
    "import csv\n",
    "with open('train_data.csv','w') as out:\n",
    "    csv_out=csv.writer(out)\n",
    "    for row in dev_data:\n",
    "        csv_out.writerow(row)"
   ]
  },
  {
   "cell_type": "code",
   "execution_count": 269,
   "metadata": {
    "collapsed": true
   },
   "outputs": [],
   "source": [
    "with open('train_contexts.txt','w') as out:\n",
    "    out.write(\"\\n\".join(contexts))"
   ]
  },
  {
   "cell_type": "code",
   "execution_count": null,
   "metadata": {
    "collapsed": true
   },
   "outputs": [],
   "source": []
  }
 ],
 "metadata": {
  "kernelspec": {
   "display_name": "Python [conda env:python3]",
   "language": "python",
   "name": "conda-env-python3-py"
  },
  "language_info": {
   "codemirror_mode": {
    "name": "ipython",
    "version": 3
   },
   "file_extension": ".py",
   "mimetype": "text/x-python",
   "name": "python",
   "nbconvert_exporter": "python",
   "pygments_lexer": "ipython3",
   "version": "3.4.5"
  }
 },
 "nbformat": 4,
 "nbformat_minor": 2
}
