{
 "cells": [
  {
   "cell_type": "code",
   "execution_count": 23,
   "metadata": {
    "collapsed": true
   },
   "outputs": [],
   "source": [
    "import json\n",
    "import random\n",
    "import re\n",
    "import Levenshtein\n",
    "with open('training.json') as json_file:  \n",
    "    train_json = json.load(json_file)\n",
    "with open('development.json') as json_file:  \n",
    "    dev_json = json.load(json_file)\n",
    "with open('testing.json') as json_file:  \n",
    "    test_json = json.load(json_file)\n",
    "with open('sample.json') as json_file:  \n",
    "    sample_json = json.load(json_file)\n",
    "    \n",
    "def get_dic_from_two_lists(keys, values):\n",
    "    return { keys[i] : values[i] for i in range(len(keys)) }"
   ]
  },
  {
   "cell_type": "code",
   "execution_count": 71,
   "metadata": {},
   "outputs": [],
   "source": [
    "train_set = train_json['data']\n",
    "trn_answer_list = []\n",
    "trn_id_list = []\n",
    "\n",
    "for article in train_set:\n",
    "    for paragraph in article['paragraphs']:\n",
    "        context = paragraph['context']\n",
    "        context_piece = context.split(',')\n",
    "        piece_num = len(context_piece)\n",
    "        for qa in paragraph['qas']:\n",
    "            question_text = qa['question']\n",
    "            idx = 0\n",
    "            max_ratio = 0\n",
    "            for i in range(piece_num):      \n",
    "                match_ratio = Levenshtein.ratio(context_piece[i], question_text)\n",
    "                if(match_ratio >= max_ratio):\n",
    "                    max_ratio = match_ratio\n",
    "                    idx = i\n",
    "            trn_id_list.append(qa['id'])\n",
    "            trn_answer_list.append(context_piece[idx])\n",
    "trn_pred_dict = get_dic_from_two_lists(trn_id_list, trn_answer_list)\n",
    "with open('trn_prediction_v2.json', 'w') as f:\n",
    "    json.dump(trn_pred_dict, f)"
   ]
  },
  {
   "cell_type": "code",
   "execution_count": 73,
   "metadata": {
    "collapsed": true
   },
   "outputs": [],
   "source": [
    "dev_set = dev_json['data']\n",
    "dev_answer_list = []\n",
    "dev_id_list = []\n",
    "\n",
    "for article in dev_set:\n",
    "    for paragraph in article['paragraphs']:\n",
    "        context = paragraph['context']\n",
    "        context_piece = context.split(',')\n",
    "        piece_num = len(context_piece)\n",
    "        for qa in paragraph['qas']:\n",
    "            question_text = qa['question']\n",
    "            idx = 0\n",
    "            max_ratio = 0\n",
    "            for i in range(piece_num):      \n",
    "                match_ratio = Levenshtein.ratio(context_piece[i], question_text)\n",
    "                if(match_ratio >= max_ratio):\n",
    "                    max_ratio = match_ratio\n",
    "                    idx = i\n",
    "            dev_id_list.append(qa['id'])\n",
    "            dev_answer_list.append(context_piece[idx])\n",
    "                \n",
    "dev_pred_dict = get_dic_from_two_lists(dev_id_list, dev_answer_list)\n",
    "with open('dev_prediction_v2.json', 'w') as f:\n",
    "    json.dump(dev_pred_dict, f)"
   ]
  },
  {
   "cell_type": "code",
   "execution_count": null,
   "metadata": {
    "collapsed": true
   },
   "outputs": [],
   "source": []
  }
 ],
 "metadata": {
  "kernelspec": {
   "display_name": "Python 3",
   "language": "python",
   "name": "python3"
  },
  "language_info": {
   "codemirror_mode": {
    "name": "ipython",
    "version": 3
   },
   "file_extension": ".py",
   "mimetype": "text/x-python",
   "name": "python",
   "nbconvert_exporter": "python",
   "pygments_lexer": "ipython3",
   "version": "3.6.0"
  }
 },
 "nbformat": 4,
 "nbformat_minor": 2
}
